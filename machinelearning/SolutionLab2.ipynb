{
  "metadata": {
    "kernelspec": {
      "name": "python",
      "display_name": "Python (Pyodide)",
      "language": "python"
    },
    "language_info": {
      "codemirror_mode": {
        "name": "python",
        "version": 3
      },
      "file_extension": ".py",
      "mimetype": "text/x-python",
      "name": "python",
      "nbconvert_exporter": "python",
      "pygments_lexer": "ipython3",
      "version": "3.8"
    }
  },
  "nbformat_minor": 4,
  "nbformat": 4,
  "cells": [
    {
      "cell_type": "raw",
      "source": "Lab 2 - AI Lab with Tree Search DFS and BFS and Graph Search DFS and BFS",
      "metadata": {}
    },
    {
      "cell_type": "markdown",
      "source": "Finish the Romania dictionary:",
      "metadata": {}
    },
    {
      "cell_type": "code",
      "source": "romania = {\n    'A': ['S', 'T', 'Z'],\n    'B': ['F', 'G', 'P', 'U'],\n    'C': ['D', 'P', 'R'],\n    'D': ['C', 'M'],\n    'E': ['H'],\n    'F': ['B', 'S'],\n    'G': ['B'],\n    'H': ['E', 'U'],\n    'I': ['N', 'V'],\n    'L': ['M', 'T'],\n    'M': ['D', 'L'],\n    'N': ['I'],\n    'O': ['S', 'Z'],\n    'P': ['B', 'C', 'R'],\n    'R': ['C', 'P', 'S'],\n    'S': ['A', 'F', 'O', 'R'],\n    'T': ['A', 'L'],\n    'U': ['B', 'H', 'V'],\n    'V': ['I', 'U'],\n    'Z': ['A', 'O']\n}\n",
      "metadata": {
        "trusted": true
      },
      "outputs": [],
      "execution_count": 4
    },
    {
      "cell_type": "markdown",
      "source": "Python Code Development 1: Tree Search DFS",
      "metadata": {}
    },
    {
      "cell_type": "code",
      "source": "import util\n\ndef TSdfs(stateSpaceGraph, startState, goalState): \n    stack = util.Stack()\n    stack.push((startState, []))\n    visited = set()  # Keep track of visited nodes\n\n    while not stack.isEmpty():\n        node, path = stack.pop()\n\n        if node not in visited:\n            visited.add(node)\n\n            if node == goalState:\n                return path + [node]\n\n            for child in stateSpaceGraph[node]:\n                stack.push((child, path + [node]))\n\nprint('Solution path:', TSdfs(romania, 'A', 'B'))\n\n",
      "metadata": {
        "trusted": true
      },
      "outputs": [
        {
          "name": "stdout",
          "text": "Solution path: ['A', 'Z', 'O', 'S', 'R', 'P', 'B']\n",
          "output_type": "stream"
        }
      ],
      "execution_count": 8
    },
    {
      "cell_type": "markdown",
      "source": "2. Tree Search BFS Solution:",
      "metadata": {}
    },
    {
      "cell_type": "code",
      "source": "import util\n\ndef TSbfs(stateSpaceGraph, startState, goalState): \n    queue = util.Queue()\n    queue.push((startState, []))\n\n    while not queue.isEmpty():\n        node, path = queue.pop()\n\n        if node == goalState:\n            return path + [node]\n\n        for child in stateSpaceGraph[node]:\n            queue.push((child, path + [node]))\n\nprint('Solution path:', TSbfs(romania, 'A', 'B'))\n",
      "metadata": {
        "trusted": true
      },
      "outputs": [
        {
          "name": "stdout",
          "text": "Solution path: ['A', 'S', 'F', 'B']\n",
          "output_type": "stream"
        }
      ],
      "execution_count": 9
    },
    {
      "cell_type": "markdown",
      "source": "3. Graph Search DFS:",
      "metadata": {}
    },
    {
      "cell_type": "code",
      "source": "import util\n\ndef GSdfs(stateSpaceGraph, startState, goalState): \n    stack = util.Stack()\n    stack.push((startState, []))\n    visited = set()\n\n    while not stack.isEmpty():\n        node, path = stack.pop()\n\n        if node not in visited:\n            visited.add(node)\n\n            if node == goalState:\n                return path + [node]\n\n            for child in stateSpaceGraph[node]:\n                stack.push((child, path + [node]))\n\nprint('Solution path:', GSdfs(romania, 'A', 'B'))\n",
      "metadata": {
        "trusted": true
      },
      "outputs": [
        {
          "name": "stdout",
          "text": "Solution path: ['A', 'Z', 'O', 'S', 'R', 'P', 'B']\n",
          "output_type": "stream"
        }
      ],
      "execution_count": 10
    },
    {
      "cell_type": "markdown",
      "source": "4. Graph Search BFS:",
      "metadata": {}
    },
    {
      "cell_type": "code",
      "source": "import util\n\ndef GSbfs(stateSpaceGraph, startState, goalState): \n    queue = util.Queue()\n    queue.push((startState, []))\n    visited = set()\n\n    while not queue.isEmpty():\n        node, path = queue.pop()\n\n        if node not in visited:\n            visited.add(node)\n\n            if node == goalState:\n                return path + [node]\n\n            for child in stateSpaceGraph[node]:\n                queue.push((child, path + [node]))\n\nprint('Solution path:', GSbfs(romania, 'A', 'B'))\n",
      "metadata": {
        "trusted": true
      },
      "outputs": [
        {
          "name": "stdout",
          "text": "Solution path: ['A', 'S', 'F', 'B']\n",
          "output_type": "stream"
        }
      ],
      "execution_count": 11
    },
    {
      "cell_type": "markdown",
      "source": "",
      "metadata": {}
    }
  ]
}