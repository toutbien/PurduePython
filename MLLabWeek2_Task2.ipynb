{
  "nbformat": 4,
  "nbformat_minor": 0,
  "metadata": {
    "colab": {
      "provenance": [],
      "authorship_tag": "ABX9TyNeWOGQEX4IJExcuTISG3TA"
    },
    "kernelspec": {
      "name": "python3",
      "display_name": "Python 3"
    },
    "language_info": {
      "name": "python"
    }
  },
  "cells": [
    {
      "cell_type": "code",
      "execution_count": 62,
      "metadata": {
        "id": "KyVe0mhK_8nD"
      },
      "outputs": [],
      "source": [
        "import numpy as np\n",
        "import matplotlib.pyplot as plt\n",
        "import pandas as pd\n",
        "df = pd.read_pickle('/content/ML_Lab2/lab2-T2-data.pkl')"
      ]
    },
    {
      "cell_type": "code",
      "source": [
        "print(df.tail(5))"
      ],
      "metadata": {
        "colab": {
          "base_uri": "https://localhost:8080/"
        },
        "id": "lSr-94KaBWzV",
        "outputId": "8ccfd981-0f38-4195-db24-c39fe45157d8"
      },
      "execution_count": 63,
      "outputs": [
        {
          "output_type": "stream",
          "name": "stdout",
          "text": [
            "                    title subtitle            series                author  \\\n",
            "666  You Know You Love Me      NaN   Gossip Girl, #2  Ziegesar, Cecily von   \n",
            "667  You Know You Love Me      NaN   Gossip Girl, #2  Ziegesar, Cecily von   \n",
            "668  You Know You Love Me      NaN   Gossip Girl, #2  Ziegesar, Cecily von   \n",
            "669  You Know You Love Me      NaN   Gossip Girl, #2  Ziegesar, Cecily von   \n",
            "670              You Suck      NaN  A Love Story, #2    Moore, Christopher   \n",
            "\n",
            "    my_rating avg_rating                 publisher    binding  pages  \\\n",
            "666       3.0       3.52                     Poppy  Paperback    240   \n",
            "667       3.0       3.52                     Poppy  Paperback    240   \n",
            "668       3.0      13.52                     Poppy  Paperback    240   \n",
            "669       3.0      -3.52                     Poppy  Paperback    240   \n",
            "670       3.0       3.81  William Morrow & Company  Hardcover    328   \n",
            "\n",
            "    year_published month_read  month_read_num  year_read bookshelf  \n",
            "666           2002      April               4       2020      read  \n",
            "667          -2002      April               4       2020      read  \n",
            "668           2002      April               4       2020      read  \n",
            "669           2002      April               4       2020      read  \n",
            "670           2007      April               4       2012      read  \n"
          ]
        }
      ]
    },
    {
      "cell_type": "code",
      "source": [
        "np.sum([df.isnull()])"
      ],
      "metadata": {
        "colab": {
          "base_uri": "https://localhost:8080/"
        },
        "id": "6cCuejlgBhWq",
        "outputId": "f4155e56-b708-4431-b665-f76a242f4980"
      },
      "execution_count": 64,
      "outputs": [
        {
          "output_type": "execute_result",
          "data": {
            "text/plain": [
              "1035"
            ]
          },
          "metadata": {},
          "execution_count": 64
        }
      ]
    },
    {
      "cell_type": "code",
      "source": [
        "for columns in df:\n",
        "  print(columns)\n",
        "  s = df[columns]\n",
        "  print(np.sum(s.isnull()))"
      ],
      "metadata": {
        "colab": {
          "base_uri": "https://localhost:8080/"
        },
        "id": "Fj38QYaRCIdf",
        "outputId": "16ba231c-68ef-4789-e4d0-8796a53be53e"
      },
      "execution_count": 65,
      "outputs": [
        {
          "output_type": "stream",
          "name": "stdout",
          "text": [
            "title\n",
            "0\n",
            "subtitle\n",
            "453\n",
            "series\n",
            "549\n",
            "author\n",
            "0\n",
            "my_rating\n",
            "31\n",
            "avg_rating\n",
            "0\n",
            "publisher\n",
            "2\n",
            "binding\n",
            "0\n",
            "pages\n",
            "0\n",
            "year_published\n",
            "0\n",
            "month_read\n",
            "0\n",
            "month_read_num\n",
            "0\n",
            "year_read\n",
            "0\n",
            "bookshelf\n",
            "0\n"
          ]
        }
      ]
    },
    {
      "cell_type": "code",
      "source": [
        "df1 = df[df.my_rating.notnull()]"
      ],
      "metadata": {
        "id": "HnDJZeLlDHWu"
      },
      "execution_count": 66,
      "outputs": []
    },
    {
      "cell_type": "code",
      "source": [
        "print(df1.shape)\n"
      ],
      "metadata": {
        "colab": {
          "base_uri": "https://localhost:8080/"
        },
        "id": "WTVSPmA7DtaW",
        "outputId": "6c9c8577-37da-413f-d8c4-8f726cbb09ad"
      },
      "execution_count": 67,
      "outputs": [
        {
          "output_type": "stream",
          "name": "stdout",
          "text": [
            "(640, 14)\n"
          ]
        }
      ]
    },
    {
      "cell_type": "code",
      "source": [
        "df1.my_rating = df1.my_rating.astype(float)\n",
        "df1.avg_rating = df1.avg_rating.astype(float)\n",
        "df1.year_published = df1.year_published.astype(int)"
      ],
      "metadata": {
        "colab": {
          "base_uri": "https://localhost:8080/"
        },
        "id": "Cbqrxr_KDySU",
        "outputId": "252f26d2-a2f6-404a-dd1e-0f612ceee10a"
      },
      "execution_count": 68,
      "outputs": [
        {
          "output_type": "stream",
          "name": "stderr",
          "text": [
            "<ipython-input-68-c1a5638a08df>:1: SettingWithCopyWarning: \n",
            "A value is trying to be set on a copy of a slice from a DataFrame.\n",
            "Try using .loc[row_indexer,col_indexer] = value instead\n",
            "\n",
            "See the caveats in the documentation: https://pandas.pydata.org/pandas-docs/stable/user_guide/indexing.html#returning-a-view-versus-a-copy\n",
            "  df1.my_rating = df1.my_rating.astype(float)\n",
            "<ipython-input-68-c1a5638a08df>:2: SettingWithCopyWarning: \n",
            "A value is trying to be set on a copy of a slice from a DataFrame.\n",
            "Try using .loc[row_indexer,col_indexer] = value instead\n",
            "\n",
            "See the caveats in the documentation: https://pandas.pydata.org/pandas-docs/stable/user_guide/indexing.html#returning-a-view-versus-a-copy\n",
            "  df1.avg_rating = df1.avg_rating.astype(float)\n",
            "<ipython-input-68-c1a5638a08df>:3: SettingWithCopyWarning: \n",
            "A value is trying to be set on a copy of a slice from a DataFrame.\n",
            "Try using .loc[row_indexer,col_indexer] = value instead\n",
            "\n",
            "See the caveats in the documentation: https://pandas.pydata.org/pandas-docs/stable/user_guide/indexing.html#returning-a-view-versus-a-copy\n",
            "  df1.year_published = df1.year_published.astype(int)\n"
          ]
        }
      ]
    },
    {
      "cell_type": "code",
      "source": [
        "print(df1.info())\n"
      ],
      "metadata": {
        "colab": {
          "base_uri": "https://localhost:8080/"
        },
        "id": "M8M3vn6sEtrX",
        "outputId": "e1615729-e91b-4080-c7cc-1d8e4046e64c"
      },
      "execution_count": 69,
      "outputs": [
        {
          "output_type": "stream",
          "name": "stdout",
          "text": [
            "<class 'pandas.core.frame.DataFrame'>\n",
            "Index: 640 entries, 0 to 670\n",
            "Data columns (total 14 columns):\n",
            " #   Column          Non-Null Count  Dtype  \n",
            "---  ------          --------------  -----  \n",
            " 0   title           640 non-null    object \n",
            " 1   subtitle        203 non-null    object \n",
            " 2   series          121 non-null    object \n",
            " 3   author          640 non-null    object \n",
            " 4   my_rating       640 non-null    float64\n",
            " 5   avg_rating      640 non-null    float64\n",
            " 6   publisher       638 non-null    object \n",
            " 7   binding         640 non-null    object \n",
            " 8   pages           640 non-null    int64  \n",
            " 9   year_published  640 non-null    int64  \n",
            " 10  month_read      640 non-null    object \n",
            " 11  month_read_num  640 non-null    int64  \n",
            " 12  year_read       640 non-null    int64  \n",
            " 13  bookshelf       640 non-null    object \n",
            "dtypes: float64(2), int64(4), object(8)\n",
            "memory usage: 75.0+ KB\n",
            "None\n"
          ]
        }
      ]
    },
    {
      "cell_type": "code",
      "source": [
        "df1.loc[df1.subtitle.isnull(), 'subtitle'] = ' '\n",
        "df1.loc[df1.series.isnull(), 'series'] = ' '\n",
        "df1.loc[df1.publisher.isnull(), 'publisher'] = ' '"
      ],
      "metadata": {
        "id": "XUPKPwwUFG-4"
      },
      "execution_count": 70,
      "outputs": []
    },
    {
      "cell_type": "code",
      "source": [
        "print(df1[df1.year_published < 0].title)"
      ],
      "metadata": {
        "colab": {
          "base_uri": "https://localhost:8080/"
        },
        "id": "PcAY45ZeFSa6",
        "outputId": "5143538e-114c-4f08-abd4-91300adcd516"
      },
      "execution_count": 71,
      "outputs": [
        {
          "output_type": "stream",
          "name": "stdout",
          "text": [
            "61                   Bad Dog\n",
            "85                Calico Joe\n",
            "122               Die Trying\n",
            "169         Garden of Beasts\n",
            "250               Life of Pi\n",
            "461        The First Husband\n",
            "491    The King of Methlehem\n",
            "667     You Know You Love Me\n",
            "Name: title, dtype: object\n"
          ]
        }
      ]
    },
    {
      "cell_type": "code",
      "source": [
        "print(df1.shape)"
      ],
      "metadata": {
        "colab": {
          "base_uri": "https://localhost:8080/"
        },
        "id": "xWp9ADMfGqCn",
        "outputId": "0d9516b7-8fb4-4ec5-f5d8-3a017f0c5f92"
      },
      "execution_count": 72,
      "outputs": [
        {
          "output_type": "stream",
          "name": "stdout",
          "text": [
            "(640, 14)\n"
          ]
        }
      ]
    },
    {
      "cell_type": "code",
      "source": [
        "df1 = df1[df1.year_published > 0]"
      ],
      "metadata": {
        "id": "eyP2otyjOKYn"
      },
      "execution_count": 73,
      "outputs": []
    },
    {
      "cell_type": "code",
      "source": [
        "df1 = df1[df1.my_rating >= 0]\n",
        "df1 = df1[df1.my_rating <= 5]\n",
        "df1 = df1[df1.avg_rating >= 0]\n",
        "df1 = df1[df1.avg_rating <= 5]"
      ],
      "metadata": {
        "id": "S9DsHxiUObXL"
      },
      "execution_count": 74,
      "outputs": []
    },
    {
      "cell_type": "code",
      "source": [
        "print(df1.shape)"
      ],
      "metadata": {
        "colab": {
          "base_uri": "https://localhost:8080/"
        },
        "id": "kNbZVwFhOtDO",
        "outputId": "539b0f5a-b3ad-4bde-a2e9-8aea431db7a2"
      },
      "execution_count": 75,
      "outputs": [
        {
          "output_type": "stream",
          "name": "stdout",
          "text": [
            "(622, 14)\n"
          ]
        }
      ]
    },
    {
      "cell_type": "code",
      "source": [
        "group_author = df1.groupby('author')\n",
        "group_author.count()\n",
        "group_author['author'].count()"
      ],
      "metadata": {
        "colab": {
          "base_uri": "https://localhost:8080/",
          "height": 510
        },
        "id": "JGB-8dxNOyfh",
        "outputId": "92a85344-5022-41bb-daed-8e4eccb779c0"
      },
      "execution_count": 76,
      "outputs": [
        {
          "output_type": "execute_result",
          "data": {
            "text/plain": [
              "author\n",
              "Abramowitz, Andy         1\n",
              "Ackerley, J.R.           1\n",
              "Adams, David             1\n",
              "Adler, Joseph            1\n",
              "Adler, Steven            1\n",
              "                        ..\n",
              "Zerby, Chuck             1\n",
              "Zevin, Gabrielle         1\n",
              "Ziegesar, Cecily von     7\n",
              "Zlozower, Neil           1\n",
              "de Hamel, Christopher    1\n",
              "Name: author, Length: 452, dtype: int64"
            ],
            "text/html": [
              "<div>\n",
              "<style scoped>\n",
              "    .dataframe tbody tr th:only-of-type {\n",
              "        vertical-align: middle;\n",
              "    }\n",
              "\n",
              "    .dataframe tbody tr th {\n",
              "        vertical-align: top;\n",
              "    }\n",
              "\n",
              "    .dataframe thead th {\n",
              "        text-align: right;\n",
              "    }\n",
              "</style>\n",
              "<table border=\"1\" class=\"dataframe\">\n",
              "  <thead>\n",
              "    <tr style=\"text-align: right;\">\n",
              "      <th></th>\n",
              "      <th>author</th>\n",
              "    </tr>\n",
              "    <tr>\n",
              "      <th>author</th>\n",
              "      <th></th>\n",
              "    </tr>\n",
              "  </thead>\n",
              "  <tbody>\n",
              "    <tr>\n",
              "      <th>Abramowitz, Andy</th>\n",
              "      <td>1</td>\n",
              "    </tr>\n",
              "    <tr>\n",
              "      <th>Ackerley, J.R.</th>\n",
              "      <td>1</td>\n",
              "    </tr>\n",
              "    <tr>\n",
              "      <th>Adams, David</th>\n",
              "      <td>1</td>\n",
              "    </tr>\n",
              "    <tr>\n",
              "      <th>Adler, Joseph</th>\n",
              "      <td>1</td>\n",
              "    </tr>\n",
              "    <tr>\n",
              "      <th>Adler, Steven</th>\n",
              "      <td>1</td>\n",
              "    </tr>\n",
              "    <tr>\n",
              "      <th>...</th>\n",
              "      <td>...</td>\n",
              "    </tr>\n",
              "    <tr>\n",
              "      <th>Zerby, Chuck</th>\n",
              "      <td>1</td>\n",
              "    </tr>\n",
              "    <tr>\n",
              "      <th>Zevin, Gabrielle</th>\n",
              "      <td>1</td>\n",
              "    </tr>\n",
              "    <tr>\n",
              "      <th>Ziegesar, Cecily von</th>\n",
              "      <td>7</td>\n",
              "    </tr>\n",
              "    <tr>\n",
              "      <th>Zlozower, Neil</th>\n",
              "      <td>1</td>\n",
              "    </tr>\n",
              "    <tr>\n",
              "      <th>de Hamel, Christopher</th>\n",
              "      <td>1</td>\n",
              "    </tr>\n",
              "  </tbody>\n",
              "</table>\n",
              "<p>452 rows × 1 columns</p>\n",
              "</div><br><label><b>dtype:</b> int64</label>"
            ]
          },
          "metadata": {},
          "execution_count": 76
        }
      ]
    },
    {
      "cell_type": "markdown",
      "source": [
        "Find the name of the author who publishes the most."
      ],
      "metadata": {
        "id": "nMLyH-j5PMCz"
      }
    },
    {
      "cell_type": "code",
      "source": [
        "df_num = group_author['author'].count()\n",
        "max = 0\n",
        "max_author = ''\n",
        "for author in df_num.index:\n",
        "  if df_num[author] > max:\n",
        "    max = df_num[author]\n",
        "    max_author = author\n",
        "print(max_author, max)"
      ],
      "metadata": {
        "colab": {
          "base_uri": "https://localhost:8080/"
        },
        "id": "iRTsmd4oPRel",
        "outputId": "b2ead0c2-8179-43b1-ebf2-9e62ccab1e65"
      },
      "execution_count": 77,
      "outputs": [
        {
          "output_type": "stream",
          "name": "stdout",
          "text": [
            "Grisham, John 22\n"
          ]
        }
      ]
    },
    {
      "cell_type": "markdown",
      "source": [
        "Display the author who published the most data with published books and years."
      ],
      "metadata": {
        "id": "-9FLppzvPSKD"
      }
    },
    {
      "cell_type": "code",
      "source": [
        "for author, subset in df1.groupby('author'):\n",
        "  if author == max_author:\n",
        "    print(author)\n",
        "    for index, row in subset.iterrows():\n",
        "      print(row['title'], end=', ')\n",
        "      print(row['year_published'])"
      ],
      "metadata": {
        "colab": {
          "base_uri": "https://localhost:8080/"
        },
        "id": "Ye0yeDPZPq91",
        "outputId": "37fb1110-9a10-4f28-8421-50b36362f954"
      },
      "execution_count": 81,
      "outputs": [
        {
          "output_type": "stream",
          "name": "stdout",
          "text": [
            "Grisham, John\n",
            "A Time to Kill, 1989\n",
            "Calico Joe, 2012\n",
            "Ford County, 2008\n",
            "Playing for Pizza, 2007\n",
            "Rogue Lawyer, 2015\n",
            "Sycamore Row, 2013\n",
            "The Associate, 2009\n",
            "The Brethren, 2000\n",
            "The Broker, 2005\n",
            "The Chamber, 1994\n",
            "The Confession, 2010\n",
            "The King of Torts, 2003\n",
            "The Last Juror, 2004\n",
            "The Litigators, 2011\n",
            "The Partner, 1997\n",
            "The Racketeer, 2012\n",
            "The Rooster Bar, 2018\n",
            "The Street Lawyer, 1998\n",
            "The Summons, 2002\n",
            "The Testament, 1999\n",
            "The Whistler, 2016\n",
            "Theodore Boone, 2010\n"
          ]
        }
      ]
    },
    {
      "cell_type": "code",
      "source": [],
      "metadata": {
        "id": "LbHbz-qHPxpj"
      },
      "execution_count": null,
      "outputs": []
    }
  ]
}